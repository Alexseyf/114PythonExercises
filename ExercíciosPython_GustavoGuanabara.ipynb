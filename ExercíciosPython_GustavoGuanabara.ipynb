{
  "nbformat": 4,
  "nbformat_minor": 0,
  "metadata": {
    "colab": {
      "name": "ExercíciosPython-GustavoGuanabara.ipynb",
      "provenance": [],
      "collapsed_sections": [
        "ewfrhDT4fv7s",
        "yefrCpspgFUt",
        "twUuLHR6hwAX",
        "Yt5rZmDqigia",
        "HQTQlqS7jfVq",
        "3lO2MnyfkOee",
        "XdZ2XDWzlbIT",
        "OptHpet0l6-Q",
        "9jwLklAZnT_k",
        "KFvBQLJ9p3xw",
        "ntB-4daCH7w9",
        "wkduzCmvLU0b",
        "mY2qS4NMMrzI",
        "jwyE2zTplLUZ",
        "xLWOAKuBpmbG",
        "kvZOnyyJrkr2",
        "HJ7b2gkXv1jM",
        "VTKujrlpxauO",
        "kZcN9e1T0vaY",
        "Ye4Kt-B02njG"
      ],
      "authorship_tag": "ABX9TyM4S3c8w6kQRk/v9uAgj3i0",
      "include_colab_link": true
    },
    "kernelspec": {
      "name": "python3",
      "display_name": "Python 3"
    },
    "language_info": {
      "name": "python"
    }
  },
  "cells": [
    {
      "cell_type": "markdown",
      "metadata": {
        "id": "view-in-github",
        "colab_type": "text"
      },
      "source": [
        "<a href=\"https://colab.research.google.com/github/Alexseyf/114PythonExercises/blob/main/Exerc%C3%ADciosPython_GustavoGuanabara.ipynb\" target=\"_parent\"><img src=\"https://colab.research.google.com/assets/colab-badge.svg\" alt=\"Open In Colab\"/></a>"
      ]
    },
    {
      "cell_type": "markdown",
      "source": [
        "#Exercícios em Python\n",
        "Curso Gustavo Guanabara"
      ],
      "metadata": {
        "id": "PibD1qNJfpMT"
      }
    },
    {
      "cell_type": "markdown",
      "source": [
        "#Exercício 1 - Olá, Mundo!\n",
        "Escreva um programa que printe na tela um 'Olá, Mundo!'."
      ],
      "metadata": {
        "id": "ewfrhDT4fv7s"
      }
    },
    {
      "cell_type": "code",
      "execution_count": null,
      "metadata": {
        "colab": {
          "base_uri": "https://localhost:8080/"
        },
        "id": "9Cl50-qMfPRH",
        "outputId": "dff02253-b020-4367-971e-ea5e57fc3e50"
      },
      "outputs": [
        {
          "output_type": "stream",
          "name": "stdout",
          "text": [
            "Olá, Mundo!\n"
          ]
        }
      ],
      "source": [
        "print('Olá, Mundo!')"
      ]
    },
    {
      "cell_type": "markdown",
      "source": [
        "#Exercício 2 - Respondendo ao usuário\n",
        "Faça um programa que leia o nome de uma pessoa e mostre uma mensagem de boas vindas."
      ],
      "metadata": {
        "id": "yefrCpspgFUt"
      }
    },
    {
      "cell_type": "code",
      "source": [
        "nome = input('Informe seu nome: ')\n",
        "print(f'Olá! Bem vindo(a), {nome.capitalize()}')"
      ],
      "metadata": {
        "colab": {
          "base_uri": "https://localhost:8080/"
        },
        "id": "PJddiJvngbOz",
        "outputId": "617b4ef3-cb02-427d-a94a-d96d9cf87448"
      },
      "execution_count": null,
      "outputs": [
        {
          "output_type": "stream",
          "name": "stdout",
          "text": [
            "Informe seu nome: alex\n",
            "Olá! Bem vindo(a), Alex\n"
          ]
        }
      ]
    },
    {
      "cell_type": "markdown",
      "source": [
        "#Exercício 3 - Somando dois números\n",
        "Crie um programa que leia dois números e mostre a soma entre eles."
      ],
      "metadata": {
        "id": "twUuLHR6hwAX"
      }
    },
    {
      "cell_type": "code",
      "source": [
        "num1 = int(input('Digite um número: '))\n",
        "num2 = int(input('Digite outro número: '))\n",
        "print(f'A some entre {num1} e {num2} é {num1 + num2}.')"
      ],
      "metadata": {
        "colab": {
          "base_uri": "https://localhost:8080/"
        },
        "id": "gi8GMF37h82r",
        "outputId": "1debc1d9-d474-4903-b31b-1232f9f728f1"
      },
      "execution_count": null,
      "outputs": [
        {
          "output_type": "stream",
          "name": "stdout",
          "text": [
            "Digite um número: 4\n",
            "Digite outro número: 2\n",
            "A some entre 4 e 2 é 6.\n"
          ]
        }
      ]
    },
    {
      "cell_type": "markdown",
      "source": [
        "#Exercício 4 - Dissecando uma variável\n",
        "Faça um programa que leia algo pelo teclado e mostre seu tipo e todas as informações sobre ele."
      ],
      "metadata": {
        "id": "Yt5rZmDqigia"
      }
    },
    {
      "cell_type": "code",
      "source": [
        "var = input('Digite algo: ')\n",
        "print(f'{var} é',A type(var))\n",
        "print('Só tem espaços? ', var.isspace())\n",
        "print('É um número? ', var.isnumeric())\n",
        "print('É alfabético?', var.isalpha())\n",
        "print('É alfanumérico? ', var.isalnum())\n",
        "print('Está em maiúsculas? ', var.isupper())\n",
        "print('Está em minúsculas? ', var.islower())\n",
        "print('Está capitalizada? ', var.istitle())"
      ],
      "metadata": {
        "colab": {
          "base_uri": "https://localhost:8080/"
        },
        "id": "8-_Umiozi65p",
        "outputId": "a8c287fe-bd4b-4f88-965c-58dae01f127e"
      },
      "execution_count": null,
      "outputs": [
        {
          "output_type": "stream",
          "name": "stdout",
          "text": [
            "Digite algo: Asa\n",
            "Asa é <class 'str'>\n",
            "Só tem espaços?  False\n",
            "É um número?  False\n",
            "É alfabético? True\n",
            "É alfanumérico?  True\n",
            "Está em maiúsculas?  False\n",
            "Está em minúsculas?  False\n",
            "Está capitalizada?  True\n"
          ]
        }
      ]
    },
    {
      "cell_type": "markdown",
      "source": [
        "#Exercício 5 - Antecessor e sucessor\n",
        "Faça um programa que leia um inteiro e mostre na tela seu antecessor e seu sucessor."
      ],
      "metadata": {
        "id": "HQTQlqS7jfVq"
      }
    },
    {
      "cell_type": "code",
      "source": [
        "num = int(input('Digite um número inteiro: '))\n",
        "print(f'O sucessor de {num} é {num + 1} e seu antecessor é {num - 1}.'  )"
      ],
      "metadata": {
        "colab": {
          "base_uri": "https://localhost:8080/"
        },
        "id": "r3SIbrnUjpGk",
        "outputId": "f8730419-fc61-48de-8d4c-e76bbccd00bc"
      },
      "execution_count": null,
      "outputs": [
        {
          "output_type": "stream",
          "name": "stdout",
          "text": [
            "Digite um número inteiro: 5\n",
            "O sucessor de 5 é 6 e seu antecessor é 4.\n"
          ]
        }
      ]
    },
    {
      "cell_type": "markdown",
      "source": [
        "#Exercício 6 - Dobro, triplo e raiz quadrada\n",
        "Faça um programa que leia um número e mostre seu dobro, triplo e sua raiz quadrada."
      ],
      "metadata": {
        "id": "3lO2MnyfkOee"
      }
    },
    {
      "cell_type": "code",
      "source": [
        "num = int(input('Digite um número inteiro: '))\n",
        "print(f'o dobro de {num} é {num * 2}, seu triplo é {num * 3} e sua raiz quadrada é {num ** 0.5}.')"
      ],
      "metadata": {
        "colab": {
          "base_uri": "https://localhost:8080/"
        },
        "id": "pnEEl32dkXj4",
        "outputId": "1aac7ae9-48bc-4521-af77-c58dc894f112"
      },
      "execution_count": null,
      "outputs": [
        {
          "output_type": "stream",
          "name": "stdout",
          "text": [
            "Digite um número inteiro: 9\n",
            "o dobro de 9 é 18, seu triplo é 27 e sua raiz quadrada é 3.0.\n"
          ]
        }
      ]
    },
    {
      "cell_type": "markdown",
      "source": [
        "#Exercício 7 - Média aritmética\n",
        "Faça um programa que leia duas notas de um aluno e mostre sua média."
      ],
      "metadata": {
        "id": "XdZ2XDWzlbIT"
      }
    },
    {
      "cell_type": "code",
      "source": [
        "n1 = float(input('Digite a primeira nota: '))\n",
        "n2 = float(input('Digite a segunda nota: '))\n",
        "print(f'A sua média é {(n1 + n2) / 2}')"
      ],
      "metadata": {
        "colab": {
          "base_uri": "https://localhost:8080/"
        },
        "id": "vhfOYeHBlhC4",
        "outputId": "2be33a65-0eea-43aa-c33f-5db4ed1edfb5"
      },
      "execution_count": null,
      "outputs": [
        {
          "output_type": "stream",
          "name": "stdout",
          "text": [
            "Digite a primeira nota: 6\n",
            "Digite a segunda nota: 5\n",
            "A sua média é 5.5\n"
          ]
        }
      ]
    },
    {
      "cell_type": "markdown",
      "source": [
        "#Exercício 8 - Conversor de medidas\n",
        "Escreva um programa que leia um valor em metros e o exiba convertido em km hm dam m dm cm mm"
      ],
      "metadata": {
        "id": "OptHpet0l6-Q"
      }
    },
    {
      "cell_type": "code",
      "source": [
        "m = int(input('Informe a distância em metros: '))\n",
        "km = m / 1000\n",
        "hm = m / 100\n",
        "dam = m / 10\n",
        "dm = m * 10\n",
        "cm = m * 100\n",
        "mm = m * 1000\n",
        "print('A medida de {}m corresponde a: \\n{}km\\n{}hm\\n{}dam\\n{}dm\\n{}cm\\n{}mm'.format(m, km, hm, dam, dm, cm, mm))"
      ],
      "metadata": {
        "colab": {
          "base_uri": "https://localhost:8080/"
        },
        "id": "w2l3hdiWl8tg",
        "outputId": "db9c87b5-6206-48cd-ebd4-2c65e4358326"
      },
      "execution_count": null,
      "outputs": [
        {
          "output_type": "stream",
          "name": "stdout",
          "text": [
            "Informe a distância em metros: 12\n",
            "A medida de 12m corresponde a: \n",
            "0.012km\n",
            "0.12hm\n",
            "1.2dam\n",
            "120dm\n",
            "1200cm\n",
            "12000mm\n"
          ]
        }
      ]
    },
    {
      "cell_type": "markdown",
      "source": [
        "#Exercício 9 - Tabuada\n",
        "Faça um porgrama que leia um número inteiro e mostre na tela sua tabuada."
      ],
      "metadata": {
        "id": "9jwLklAZnT_k"
      }
    },
    {
      "cell_type": "code",
      "source": [
        "n = int(input('Digite um número inteiro: '))\n",
        "cont = 0\n",
        "for cont in range(11):\n",
        "  print(f'{n} x {cont} = {n * cont}')\n",
        "  cont += 1"
      ],
      "metadata": {
        "colab": {
          "base_uri": "https://localhost:8080/"
        },
        "id": "XEOE3DeqnhfO",
        "outputId": "52d95ac5-8198-410f-873e-930ccb81cf40"
      },
      "execution_count": null,
      "outputs": [
        {
          "output_type": "stream",
          "name": "stdout",
          "text": [
            "Digite um número inteiro: 5\n",
            "5 x 0 = 0\n",
            "5 x 1 = 5\n",
            "5 x 2 = 10\n",
            "5 x 3 = 15\n",
            "5 x 4 = 20\n",
            "5 x 5 = 25\n",
            "5 x 6 = 30\n",
            "5 x 7 = 35\n",
            "5 x 8 = 40\n",
            "5 x 9 = 45\n",
            "5 x 10 = 50\n"
          ]
        }
      ]
    },
    {
      "cell_type": "markdown",
      "source": [
        "#Exercício 10 - Conversor de moedas\n",
        "Crie um programa que leia quanto uma pessoa tem e reais, e com base nisso, quantos dólares ela pode comprar.\n",
        "considere US$1.00 = R$3.27"
      ],
      "metadata": {
        "id": "KFvBQLJ9p3xw"
      }
    },
    {
      "cell_type": "code",
      "source": [
        "real = float(input('Digite a quantia em reais: R$'))\n",
        "dolar = 3.27\n",
        "total = real / dolar\n",
        "print(f'Com R${real:.2f}, considerando o valor do dólar US${dolar:.2f}, você pode comprar US${total:.2f}')"
      ],
      "metadata": {
        "id": "XbiEPU4TqNTe",
        "colab": {
          "base_uri": "https://localhost:8080/"
        },
        "outputId": "7ea7bf57-72ca-4131-98d7-674267ab670b"
      },
      "execution_count": null,
      "outputs": [
        {
          "output_type": "stream",
          "name": "stdout",
          "text": [
            "Digite a quantia em reais: R$3.27\n",
            "Com R$3.27, considerando o valor do dólar US$3.27, você pode comprar US$1.00\n"
          ]
        }
      ]
    },
    {
      "cell_type": "markdown",
      "source": [
        "#Exercício 11 - Pintando parede\n",
        "Faça um programa que leia a largura e altura de uma parede em metros, calcule sua área e a quantidade de tinta necessária para pintá-la, sabendo que cada litro de tinta, pinta uma área de 2m²."
      ],
      "metadata": {
        "id": "ntB-4daCH7w9"
      }
    },
    {
      "cell_type": "code",
      "source": [
        "altura = float(input('Informe a altura da parede em metros: '))\n",
        "largura = float(input('Informe a largura da parede em metros: '))\n",
        "area = altura * largura\n",
        "litros = area / 2\n",
        "print(f'Sua parede tem uma dimensão de {area:.2f}m².')\n",
        "print(f'Para pintá-la, serão necessários {litros:.2f}l de tinta.')"
      ],
      "metadata": {
        "colab": {
          "base_uri": "https://localhost:8080/"
        },
        "id": "g1JYUJcuJtkK",
        "outputId": "a630122c-a2e1-4d77-c802-ce72bdf088d2"
      },
      "execution_count": null,
      "outputs": [
        {
          "output_type": "stream",
          "name": "stdout",
          "text": [
            "Informe a altura da parede em metros: 3\n",
            "Informe a largura da parede em metros: 2\n",
            "Sua parede tem uma dimensão de 6.00m².\n",
            "Para pintá-la é necessário 3.00l de tinta.\n"
          ]
        }
      ]
    },
    {
      "cell_type": "markdown",
      "source": [
        "#Exercício 12 - Calculando descontos\n",
        "Faça um programa que leia o preço de um produto e mostre seu novo valor com 5% de desconto."
      ],
      "metadata": {
        "id": "wkduzCmvLU0b"
      }
    },
    {
      "cell_type": "code",
      "source": [
        "valor = float(input('Qual o valor do produto? R$'))\n",
        "desconto = valor*5/100\n",
        "novoValor = valor - desconto\n",
        "print(f'O produto com valor de R${valor:.2f}, com desconto de R${desconto:.2f} fica por R${novoValor:.2f}.')"
      ],
      "metadata": {
        "colab": {
          "base_uri": "https://localhost:8080/"
        },
        "id": "xhUZ5EqXLjEY",
        "outputId": "ffe3b0af-a44f-4594-fb49-3be0028b270d"
      },
      "execution_count": null,
      "outputs": [
        {
          "output_type": "stream",
          "name": "stdout",
          "text": [
            "Qual o valor do produto? R$147\n",
            "O produto com valor de R$147.00, com desconto de R$7.35 fica por R$139.65.\n"
          ]
        }
      ]
    },
    {
      "cell_type": "markdown",
      "source": [
        ""
      ],
      "metadata": {
        "id": "lQ9_BJ1FLUzC"
      }
    },
    {
      "cell_type": "markdown",
      "source": [
        "#Exercício 13 - Reajuste salarial\n",
        "Faça um programa que leia o salário de um funcionário e mostre seu salário com 15% de aumento."
      ],
      "metadata": {
        "id": "mY2qS4NMMrzI"
      }
    },
    {
      "cell_type": "code",
      "source": [
        "salario = float(input('Informe o salário: '))\n",
        "aumento = salario*15/100\n",
        "novo_salario = salario + aumento\n",
        "print(f'O salário, com 15% de aumento, fica em R${novo_salario:.2f}')"
      ],
      "metadata": {
        "id": "cCxzHftHNqRo",
        "colab": {
          "base_uri": "https://localhost:8080/"
        },
        "outputId": "c6803ee6-1e09-48ce-c714-e7fddd7b1766"
      },
      "execution_count": 4,
      "outputs": [
        {
          "output_type": "stream",
          "name": "stdout",
          "text": [
            "Informe o salário: 1000\n",
            "O salário, com 15% de aumento, fica em R$1150.00\n"
          ]
        }
      ]
    },
    {
      "cell_type": "markdown",
      "source": [
        "#Exercício 14 - Conversor de temperaturas\n",
        "Escreva um programa que converta uma temperatura digitada em C° e converta para °F."
      ],
      "metadata": {
        "id": "jwyE2zTplLUZ"
      }
    },
    {
      "cell_type": "code",
      "source": [
        "c = float(input('Informe a temperatura em C°: '))\n",
        "f = (c * 9/5) + 32\n",
        "print(f'A temperatura digitada, em Fahrenheit é: {f:.0f}°F.')"
      ],
      "metadata": {
        "colab": {
          "base_uri": "https://localhost:8080/"
        },
        "id": "MVOO1XzPoZvX",
        "outputId": "e16aeab5-5356-4801-df0d-c9fa582b46a9"
      },
      "execution_count": 7,
      "outputs": [
        {
          "output_type": "stream",
          "name": "stdout",
          "text": [
            "Informe a temperatura em C°: 20\n",
            "A temperatura digitada, em Fahrenheit é: 68°F.\n"
          ]
        }
      ]
    },
    {
      "cell_type": "markdown",
      "source": [
        "#Exercício 15 - Aluguel de carros\n",
        "Escreva um programa que pergunte a quantidade de km rodados por um carro alugado e a quantidade de dias pelos quais ele foi alugado. Calcule o valor a pagar sabendo que o carro custa 60,00 reais por dia e 0,15 centavos por km rodado."
      ],
      "metadata": {
        "id": "xLWOAKuBpmbG"
      }
    },
    {
      "cell_type": "code",
      "source": [
        "dias = int(input('Informe a quantidade de dias pelos quais o carro permaneceu locado: '))\n",
        "km = float(input('Informe os quilometros rodados: '))\n",
        "valor_dias = dias * 60\n",
        "valor_km = km * 0.15\n",
        "total = valor_dias + valor_km\n",
        "print(f'O total a pagar é R${total:.2f}')"
      ],
      "metadata": {
        "colab": {
          "base_uri": "https://localhost:8080/"
        },
        "id": "_3dm5fHYqFpP",
        "outputId": "8843a48d-208a-42eb-c010-111a8ea36965"
      },
      "execution_count": 9,
      "outputs": [
        {
          "output_type": "stream",
          "name": "stdout",
          "text": [
            "Informe a quantidade de dias pelos quais o carro permaneceu locado: 1\n",
            "Informe os quilometros rodados: 1\n",
            "O total a pagar é R$60.15\n"
          ]
        }
      ]
    },
    {
      "cell_type": "markdown",
      "source": [
        "#Exercício 16 - Quebrando um número\n",
        "Crie um programa que leia um número real qualquer pelo teclado e mostre na tela sua porção inteira."
      ],
      "metadata": {
        "id": "kvZOnyyJrkr2"
      }
    },
    {
      "cell_type": "code",
      "source": [
        "num = float(input('Informe um número real (ex: 6.123): '))\n",
        "num = print(f'A porção inteira do número digitado é {int(num)}.')"
      ],
      "metadata": {
        "colab": {
          "base_uri": "https://localhost:8080/"
        },
        "id": "PBPwIlNqsAOd",
        "outputId": "0bf0cab7-c2da-4886-8f89-95a41ccf3291"
      },
      "execution_count": 14,
      "outputs": [
        {
          "output_type": "stream",
          "name": "stdout",
          "text": [
            "Informe um número real (ex: 6.123): 4.56\n",
            "A porção inteira do número digitado é 4.\n"
          ]
        }
      ]
    },
    {
      "cell_type": "markdown",
      "source": [
        "#Exercício 17 - Catetos e Hipotenusa\n",
        "Faça um programa que leia o comprimento do cateto oposto e do cateto adjacente de um triângulo retângulo, calcule e mostre o comprimento da hipotenusa."
      ],
      "metadata": {
        "id": "HJ7b2gkXv1jM"
      }
    },
    {
      "cell_type": "code",
      "source": [
        "from math import hypot\n",
        "\n",
        "co = float(input('Informe o comprimento do cateto oposto: '))\n",
        "ca = float(input('Informe o comprimento do cateto adjacente: '))\n",
        "hi = hypot(co, ca)\n",
        "print(f'A hipotenusa vai medir: {hi:.2f}')"
      ],
      "metadata": {
        "colab": {
          "base_uri": "https://localhost:8080/"
        },
        "id": "rpJH2RNMwWL2",
        "outputId": "3bae3669-35ee-4d96-f177-b284be2d3136"
      },
      "execution_count": 18,
      "outputs": [
        {
          "output_type": "stream",
          "name": "stdout",
          "text": [
            "Informe o comprimento do cateto oposto: 2\n",
            "Informe o comprimento do cateto adjacente: 2.5\n",
            "A hipotenusa vai medir: 3.20\n"
          ]
        }
      ]
    },
    {
      "cell_type": "markdown",
      "source": [
        "#Exercício 18 - Seno, Cosseno e Tangente\n",
        "Faça um programa que leia um ângulo qualquer e mostre na tela o valor do seno, cosseno e tangente desse ângulo."
      ],
      "metadata": {
        "id": "VTKujrlpxauO"
      }
    },
    {
      "cell_type": "code",
      "source": [
        "from math import sin, cos, tan, radians\n",
        "\n",
        "angulo = float(input('Informe o ângulo a ser calculado: '))\n",
        "seno = sin(radians(angulo))\n",
        "cosseno = cos(radians(angulo))\n",
        "tangente = tan(radians(angulo))\n",
        "print(f'Para o ângulo {angulo:.2f}:\\nSENO: {seno:.2f}\\nCOSSENO: {cosseno:.2f}\\nTANGENTE:{tangente:.2f}')"
      ],
      "metadata": {
        "colab": {
          "base_uri": "https://localhost:8080/"
        },
        "id": "Lbrt1LOEyZtk",
        "outputId": "bd5db4b4-3c3b-4630-9d8f-23c57390ee72"
      },
      "execution_count": 24,
      "outputs": [
        {
          "output_type": "stream",
          "name": "stdout",
          "text": [
            "Informe o ângulo a ser calculado: 30\n",
            "Para o ângulo 30.00:\n",
            "SENO: 0.50\n",
            "COSSENO: 0.87\n",
            "TANGENTE:0.58\n"
          ]
        }
      ]
    },
    {
      "cell_type": "markdown",
      "source": [
        "#Exercício 19 - Sorteando um item na lista\n",
        "Um professor quer sortear um dos seus quatro alunos para apagar o quadro. Faça um programa que ajude ele, lendo o nome deles e escrevendo o nome escolhido."
      ],
      "metadata": {
        "id": "kZcN9e1T0vaY"
      }
    },
    {
      "cell_type": "code",
      "source": [
        "import random\n",
        "aluno1 = input('Digite o nome do aluno: ')\n",
        "aluno2 = input('Digite o nome do aluno: ')\n",
        "aluno3 = input('Digite o nome do aluno: ')\n",
        "aluno4 = input('Digite o nome do aluno: ')\n",
        "alunos = [aluno1, aluno2, aluno3,aluno4]\n",
        "sorteado = random.choice(alunos)\n",
        "print(f'O aluno escolhido foi {sorteado}.')"
      ],
      "metadata": {
        "colab": {
          "base_uri": "https://localhost:8080/"
        },
        "id": "kcskwpGL1Cd9",
        "outputId": "a39ae9d5-dcbe-41b2-c473-51ba49420f55"
      },
      "execution_count": 29,
      "outputs": [
        {
          "output_type": "stream",
          "name": "stdout",
          "text": [
            "Digite o nome do aluno: a\n",
            "Digite o nome do aluno: b\n",
            "Digite o nome do aluno: c\n",
            "Digite o nome do aluno: d\n",
            "O aluno escolhido foi a\n"
          ]
        }
      ]
    },
    {
      "cell_type": "markdown",
      "source": [
        "#Exercício 20 - Sorteando uma ordem na lista\n",
        "O mesmo professor do desafio anterior quer sortear a ordem de apresentação de trabalhos dos alunos. Faça um programa que leia o nome dos quatro alunos e mostre a ordem sorteada."
      ],
      "metadata": {
        "id": "Ye4Kt-B02njG"
      }
    },
    {
      "cell_type": "code",
      "source": [
        "import random\n",
        "aluno1 = input('Digite o nome do aluno: ')\n",
        "aluno2 = input('Digite o nome do aluno: ')\n",
        "aluno3 = input('Digite o nome do aluno: ')\n",
        "aluno4 = input('Digite o nome do aluno: ')\n",
        "alunos = [aluno1, aluno2, aluno3,aluno4]\n",
        "random.shuffle(alunos)\n",
        "print(f'A ordem de apresentação dos trabalhos será: {alunos}')"
      ],
      "metadata": {
        "colab": {
          "base_uri": "https://localhost:8080/"
        },
        "id": "cYd1dw3T3DjV",
        "outputId": "da035146-fd8f-4f55-bf75-cca5179871c8"
      },
      "execution_count": 33,
      "outputs": [
        {
          "output_type": "stream",
          "name": "stdout",
          "text": [
            "Digite o nome do aluno: a\n",
            "Digite o nome do aluno: b\n",
            "Digite o nome do aluno: c\n",
            "Digite o nome do aluno: s\n",
            "A ordem de apresentação dos trabalhos será: ['c', 'a', 'b', 's']\n"
          ]
        }
      ]
    }
  ]
}